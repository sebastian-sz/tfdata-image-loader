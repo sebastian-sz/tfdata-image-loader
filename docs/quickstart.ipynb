{
  "nbformat": 4,
  "nbformat_minor": 0,
  "metadata": {
    "colab": {
      "name": "tfdata_loader_colab_quickstart.ipynb",
      "provenance": [],
      "collapsed_sections": []
    },
    "kernelspec": {
      "name": "python3",
      "display_name": "Python 3"
    }
  },
  "cells": [
    {
      "cell_type": "markdown",
      "metadata": {
        "id": "n9rBVh9Y3mIx"
      },
      "source": [
        "### TFData Loader Installation\n",
        "\n",
        "Hello and welcome. Below is a simple guide to installing and using my module for loading image data for Image Classification problem.\n",
        "\n",
        "Run below cell to install the module:"
      ]
    },
    {
      "cell_type": "code",
      "metadata": {
        "id": "bbjnQVXDa9xC",
        "colab": {
          "base_uri": "https://localhost:8080/"
        },
        "outputId": "c12eb9e9-2261-4674-c9ba-c9442461a151"
      },
      "source": [
        "!pip install git+https://github.com/sebastian-sz/tfdata-image-loader@main"
      ],
      "execution_count": null,
      "outputs": [
        {
          "output_type": "stream",
          "text": [
            "Obtaining tfdata-image-loader from git+git://github.com/sebastian-sz/tfdata-image-loader.git#egg=tfdata-image-loader\n",
            "  Cloning git://github.com/sebastian-sz/tfdata-image-loader.git to ./src/tfdata-image-loader\n",
            "  Running command git clone -q git://github.com/sebastian-sz/tfdata-image-loader.git /content/src/tfdata-image-loader\n",
            "Installing collected packages: tfdata-image-loader\n",
            "  Running setup.py develop for tfdata-image-loader\n",
            "Successfully installed tfdata-image-loader\n"
          ],
          "name": "stdout"
        }
      ]
    },
    {
      "cell_type": "markdown",
      "metadata": {
        "id": "DYlep9XF3ZUH"
      },
      "source": [
        "Proceed with standard python imports:"
      ]
    },
    {
      "cell_type": "code",
      "metadata": {
        "id": "BzOrfPlmfXLB",
        "colab": {
          "base_uri": "https://localhost:8080/"
        },
        "outputId": "fa3aa768-2d6e-4899-aa84-79a578864a1a"
      },
      "source": [
        "%tensorflow_version 2.x\n",
        "\n",
        "import os\n",
        "\n",
        "import matplotlib.pyplot as plt\n",
        "import tensorflow as tf\n",
        "\n",
        "from tfdata_image_loader import TFDataImageLoader\n",
        "\n",
        "print(tf.__version__)"
      ],
      "execution_count": null,
      "outputs": [
        {
          "output_type": "stream",
          "text": [
            "2.4.1\n"
          ],
          "name": "stdout"
        }
      ]
    },
    {
      "cell_type": "markdown",
      "metadata": {
        "id": "akdGp68W3kkB"
      },
      "source": [
        "### Download example dataset\n",
        "\n",
        "In this section we are going to download example dataset."
      ]
    },
    {
      "cell_type": "code",
      "metadata": {
        "id": "ifLKYJWw6caH",
        "colab": {
          "base_uri": "https://localhost:8080/"
        },
        "outputId": "80220d44-a199-4152-c581-e0c7bc9625cb"
      },
      "source": [
        "!curl https://storage.googleapis.com/download.tensorflow.org/example_images/flower_photos.tgz | tar xz"
      ],
      "execution_count": null,
      "outputs": [
        {
          "output_type": "stream",
          "text": [
            "  % Total    % Received % Xferd  Average Speed   Time    Time     Time  Current\n",
            "                                 Dload  Upload   Total   Spent    Left  Speed\n",
            "100  218M  100  218M    0     0  46.6M      0  0:00:04  0:00:04 --:--:-- 59.8M\n"
          ],
          "name": "stdout"
        }
      ]
    },
    {
      "cell_type": "markdown",
      "metadata": {
        "id": "HVQ0hBfG7OcN"
      },
      "source": [
        "Remove the License file so it doesn't mess up directory structure:"
      ]
    },
    {
      "cell_type": "code",
      "metadata": {
        "id": "ULjj5wLY68Ud"
      },
      "source": [
        "!rm flower_photos/LICENSE.txt"
      ],
      "execution_count": null,
      "outputs": []
    },
    {
      "cell_type": "markdown",
      "metadata": {
        "id": "jnraEsH97Zpz"
      },
      "source": [
        "Preview Class names:"
      ]
    },
    {
      "cell_type": "code",
      "metadata": {
        "id": "MpSgfUa47ZAf",
        "colab": {
          "base_uri": "https://localhost:8080/"
        },
        "outputId": "329e0523-ee13-41ce-c2fd-3e289ffbeaf7"
      },
      "source": [
        "!ls flower_photos"
      ],
      "execution_count": null,
      "outputs": [
        {
          "output_type": "stream",
          "text": [
            "daisy  dandelion  roses  sunflowers  tulips\n"
          ],
          "name": "stdout"
        }
      ]
    },
    {
      "cell_type": "markdown",
      "metadata": {
        "id": "aWPITuh-7fwm"
      },
      "source": [
        "### Load the data using our loader"
      ]
    },
    {
      "cell_type": "code",
      "metadata": {
        "id": "p2VDNQOa7itl"
      },
      "source": [
        "DATA_PATH = \"./flower_photos\"\n",
        "BATCH_SIZE = 32\n",
        "TARGET_SIZE = (224, 224)\n",
        "\n",
        "\n",
        "def preprocess_data(image, label):\n",
        "    return (image / 127.5) - 1, label\n",
        "\n",
        "\n",
        "def augment_data(image, label):\n",
        "    return tf.image.random_flip_left_right(image), label"
      ],
      "execution_count": null,
      "outputs": []
    },
    {
      "cell_type": "code",
      "metadata": {
        "id": "an2pwW5O7ykd",
        "colab": {
          "base_uri": "https://localhost:8080/"
        },
        "outputId": "09aa1276-3c9c-4df1-d6bf-454043639abc"
      },
      "source": [
        "data_loader = TFDataImageLoader(\n",
        "    data_path=DATA_PATH,\n",
        "    target_size=TARGET_SIZE,\n",
        "    batch_size=BATCH_SIZE,\n",
        "    pre_process_function=preprocess_data,\n",
        "    augmentation_function=augment_data,\n",
        ")"
      ],
      "execution_count": null,
      "outputs": [
        {
          "output_type": "stream",
          "text": [
            "Found 3670 images, belonging to 5 classes\n",
            "\n",
            "Class names mapping: \n",
            "{'daisy': array([1, 0, 0, 0, 0], dtype=int32), 'dandelion': array([0, 1, 0, 0, 0], dtype=int32), 'roses': array([0, 0, 1, 0, 0], dtype=int32), 'sunflowers': array([0, 0, 0, 1, 0], dtype=int32), 'tulips': array([0, 0, 0, 0, 1], dtype=int32)}\n",
            "\n"
          ],
          "name": "stdout"
        }
      ]
    },
    {
      "cell_type": "code",
      "metadata": {
        "id": "zOJwGcuV8XPq"
      },
      "source": [
        "dataset = data_loader.load_dataset()"
      ],
      "execution_count": null,
      "outputs": []
    },
    {
      "cell_type": "code",
      "metadata": {
        "id": "zqUlm1-_8awz",
        "colab": {
          "base_uri": "https://localhost:8080/"
        },
        "outputId": "f9a3a273-eaf3-4bec-98b7-f36ba1561ddc"
      },
      "source": [
        "for image_batch, label_batch in dataset.take(1):\n",
        "    print(image_batch.shape)\n",
        "    print(label_batch.shape)"
      ],
      "execution_count": null,
      "outputs": [
        {
          "output_type": "stream",
          "text": [
            "(32, 224, 224, 3)\n",
            "(32, 5)\n"
          ],
          "name": "stdout"
        }
      ]
    },
    {
      "cell_type": "markdown",
      "metadata": {
        "id": "H7F_Ns_X-4tt"
      },
      "source": [
        "### Train custom model\n",
        "We can use the loaded data to train a model:"
      ]
    },
    {
      "cell_type": "code",
      "metadata": {
        "id": "S1ILFlN2_ATx"
      },
      "source": [
        "def make_model(num_classes):\n",
        "    base_model = tf.keras.applications.MobileNetV2(\n",
        "        input_shape=(TARGET_SIZE[0], TARGET_SIZE[1], 3),\n",
        "        include_top=False,\n",
        "        pooling=\"avg\",\n",
        "    )\n",
        "\n",
        "    base_model.trainable=False\n",
        "\n",
        "    return tf.keras.Sequential([\n",
        "        base_model,\n",
        "        tf.keras.layers.Dropout(0.2),\n",
        "        tf.keras.layers.Dense(num_classes, activation=\"softmax\")\n",
        "    ])"
      ],
      "execution_count": null,
      "outputs": []
    },
    {
      "cell_type": "code",
      "metadata": {
        "id": "tUjspUDr_qLj",
        "colab": {
          "base_uri": "https://localhost:8080/"
        },
        "outputId": "22bc3abe-4e84-44df-96ef-b3c637a92d6d"
      },
      "source": [
        "num_classes = len(os.listdir(DATA_PATH))\n",
        "\n",
        "model = make_model(num_classes=num_classes)\n",
        "model.compile(\n",
        "    optimizer=tf.keras.optimizers.RMSprop(),\n",
        "    loss=tf.keras.losses.CategoricalCrossentropy(from_logits=False),\n",
        "    metrics=['accuracy']\n",
        ")\n",
        "\n",
        "model.summary()"
      ],
      "execution_count": null,
      "outputs": [
        {
          "output_type": "stream",
          "text": [
            "Downloading data from https://storage.googleapis.com/tensorflow/keras-applications/mobilenet_v2/mobilenet_v2_weights_tf_dim_ordering_tf_kernels_1.0_224_no_top.h5\n",
            "9412608/9406464 [==============================] - 0s 0us/step\n",
            "Model: \"sequential\"\n",
            "_________________________________________________________________\n",
            "Layer (type)                 Output Shape              Param #   \n",
            "=================================================================\n",
            "mobilenetv2_1.00_224 (Functi (None, 1280)              2257984   \n",
            "_________________________________________________________________\n",
            "dropout (Dropout)            (None, 1280)              0         \n",
            "_________________________________________________________________\n",
            "dense (Dense)                (None, 5)                 6405      \n",
            "=================================================================\n",
            "Total params: 2,264,389\n",
            "Trainable params: 6,405\n",
            "Non-trainable params: 2,257,984\n",
            "_________________________________________________________________\n"
          ],
          "name": "stdout"
        }
      ]
    },
    {
      "cell_type": "code",
      "metadata": {
        "id": "H_eqpJNaAFT1",
        "colab": {
          "base_uri": "https://localhost:8080/"
        },
        "outputId": "e0713f2d-f7ac-46b4-e5fc-dc44fc928b00"
      },
      "source": [
        "model.fit(\n",
        "    dataset,\n",
        "    epochs=1,\n",
        ")"
      ],
      "execution_count": null,
      "outputs": [
        {
          "output_type": "stream",
          "text": [
            "115/115 [==============================] - 122s 1s/step - loss: 0.9917 - accuracy: 0.6307\n"
          ],
          "name": "stdout"
        },
        {
          "output_type": "execute_result",
          "data": {
            "text/plain": [
              "<tensorflow.python.keras.callbacks.History at 0x7f77d5c09250>"
            ]
          },
          "metadata": {
            "tags": []
          },
          "execution_count": 11
        }
      ]
    },
    {
      "cell_type": "markdown",
      "metadata": {
        "id": "wDhJhpc94I1J"
      },
      "source": [
        "### Using your own data.\n",
        "\n",
        "In order to use your own data you can either:\n",
        "1. Install `tfdata-image-loader` locally\n",
        "2. Connect your Google Drive with Colab Notebook and pass the `data path` to Google Drive. For example:\n",
        "```\n",
        "from google.colab import drive\n",
        "from tfdata_image_loader import TFDataImageLoader \n",
        "drive.mount('.') \n",
        "data_path = \"drive/My Drive/data/train/...\"\n",
        "train_loader =  TFDataImageLoader(\n",
        "    data_path\n",
        "    (...)\n",
        ")\n",
        "```\n",
        "You can also temporarily copy the data from drive to colab."
      ]
    }
  ]
}
